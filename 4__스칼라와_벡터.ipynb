{
  "nbformat": 4,
  "nbformat_minor": 0,
  "metadata": {
    "colab": {
      "name": "4_ 스칼라와 벡터.ipynb",
      "provenance": [],
      "authorship_tag": "ABX9TyMG/ASWYsK9njnLBGZ/TNJE",
      "include_colab_link": true
    },
    "kernelspec": {
      "name": "ir",
      "display_name": "R"
    }
  },
  "cells": [
    {
      "cell_type": "markdown",
      "metadata": {
        "id": "view-in-github",
        "colab_type": "text"
      },
      "source": [
        "<a href=\"https://colab.research.google.com/github/caprison11/deep-learning-from-scratch/blob/master/4__%EC%8A%A4%EC%B9%BC%EB%9D%BC%EC%99%80_%EB%B2%A1%ED%84%B0.ipynb\" target=\"_parent\"><img src=\"https://colab.research.google.com/assets/colab-badge.svg\" alt=\"Open In Colab\"/></a>"
      ]
    },
    {
      "cell_type": "code",
      "metadata": {
        "colab": {
          "base_uri": "https://localhost:8080/",
          "height": 392
        },
        "id": "mOJh7CSsrRWj",
        "outputId": "97940db8-cf07-47bc-dbae-00a4745c389c"
      },
      "source": [
        "# 스칼라 데이터 객체의 변수 정의\r\n",
        "a <- 365\r\n",
        "a1 <- 36.5\r\n",
        "a2 <- '손정명'\r\n",
        "a3 <- 'David Son'\r\n",
        "a4 <- '개학 좋아요? well...'\r\n",
        "a5 <- TRUE\r\n",
        "a6 <- NA\r\n",
        "\r\n",
        "# 메모리 상에 생성된 스칼라변수 조회\r\n",
        "a\r\n",
        "class(a)\r\n",
        "\r\n",
        "a4\r\n",
        "class(a4)\r\n",
        "\r\n",
        "a5\r\n",
        "class(a5)\r\n",
        "\r\n",
        "# 벡터 데이터 객체의 변수 정의\r\n",
        "b <- c(33, -5, 20:23, 12, -2:3)\r\n",
        "b1 <- c('홍길동', 'JK Tim', 'John', '장그래', 'G드래곤')\r\n",
        "b2 <- c(T, FALSE, FALSE, T, TRUE, F, T)\r\n",
        "\r\n",
        "b; class(b)\r\n",
        "b1; class(b1)\r\n",
        "b2; class(b2)\r\n",
        "\r\n",
        "# 결측값(NA)가 포함된 벡터\r\n",
        "h <- c()\r\n",
        "h1 <- c(NA)\r\n",
        "h2 <- c(33, NA, 20:23, 12, NA)\r\n",
        "h3 <- c(NA, 'JK Tim', 'John', '장그래', NA)\r\n",
        "h4 <- c(T, FALSE, NA, NA, TRUE, F, NA)\r\n",
        "\r\n",
        "h; class(h)\r\n",
        "h1; class(h1)\r\n",
        "h2; class(h2)\r\n",
        "h3; class(h3)\r\n",
        "h4; class(h4)"
      ],
      "execution_count": 1,
      "outputs": [
        {
          "output_type": "display_data",
          "data": {
            "text/plain": [
              "[1] 365"
            ],
            "text/latex": "365",
            "text/markdown": "365",
            "text/html": [
              "365"
            ]
          },
          "metadata": {
            "tags": []
          }
        },
        {
          "output_type": "display_data",
          "data": {
            "text/plain": [
              "[1] \"numeric\""
            ],
            "text/latex": "'numeric'",
            "text/markdown": "'numeric'",
            "text/html": [
              "'numeric'"
            ]
          },
          "metadata": {
            "tags": []
          }
        },
        {
          "output_type": "display_data",
          "data": {
            "text/plain": [
              "[1] \"개학 좋아요? well...\""
            ],
            "text/latex": "'개학 좋아요? well...'",
            "text/markdown": "'개학 좋아요? well...'",
            "text/html": [
              "'개학 좋아요? well...'"
            ]
          },
          "metadata": {
            "tags": []
          }
        },
        {
          "output_type": "display_data",
          "data": {
            "text/plain": [
              "[1] \"character\""
            ],
            "text/latex": "'character'",
            "text/markdown": "'character'",
            "text/html": [
              "'character'"
            ]
          },
          "metadata": {
            "tags": []
          }
        },
        {
          "output_type": "display_data",
          "data": {
            "text/plain": [
              "[1] TRUE"
            ],
            "text/latex": "TRUE",
            "text/markdown": "TRUE",
            "text/html": [
              "TRUE"
            ]
          },
          "metadata": {
            "tags": []
          }
        },
        {
          "output_type": "display_data",
          "data": {
            "text/plain": [
              "[1] \"logical\""
            ],
            "text/latex": "'logical'",
            "text/markdown": "'logical'",
            "text/html": [
              "'logical'"
            ]
          },
          "metadata": {
            "tags": []
          }
        },
        {
          "output_type": "display_data",
          "data": {
            "text/plain": [
              " [1] 33 -5 20 21 22 23 12 -2 -1  0  1  2  3"
            ],
            "text/latex": "\\begin{enumerate*}\n\\item 33\n\\item -5\n\\item 20\n\\item 21\n\\item 22\n\\item 23\n\\item 12\n\\item -2\n\\item -1\n\\item 0\n\\item 1\n\\item 2\n\\item 3\n\\end{enumerate*}\n",
            "text/markdown": "1. 33\n2. -5\n3. 20\n4. 21\n5. 22\n6. 23\n7. 12\n8. -2\n9. -1\n10. 0\n11. 1\n12. 2\n13. 3\n\n\n",
            "text/html": [
              "<style>\n",
              ".list-inline {list-style: none; margin:0; padding: 0}\n",
              ".list-inline>li {display: inline-block}\n",
              ".list-inline>li:not(:last-child)::after {content: \"\\00b7\"; padding: 0 .5ex}\n",
              "</style>\n",
              "<ol class=list-inline><li>33</li><li>-5</li><li>20</li><li>21</li><li>22</li><li>23</li><li>12</li><li>-2</li><li>-1</li><li>0</li><li>1</li><li>2</li><li>3</li></ol>\n"
            ]
          },
          "metadata": {
            "tags": []
          }
        },
        {
          "output_type": "display_data",
          "data": {
            "text/plain": [
              "[1] \"numeric\""
            ],
            "text/latex": "'numeric'",
            "text/markdown": "'numeric'",
            "text/html": [
              "'numeric'"
            ]
          },
          "metadata": {
            "tags": []
          }
        },
        {
          "output_type": "display_data",
          "data": {
            "text/plain": [
              "[1] \"홍길동\"  \"JK Tim\"  \"John\"    \"장그래\"  \"G드래곤\""
            ],
            "text/latex": "\\begin{enumerate*}\n\\item '홍길동'\n\\item 'JK Tim'\n\\item 'John'\n\\item '장그래'\n\\item 'G드래곤'\n\\end{enumerate*}\n",
            "text/markdown": "1. '홍길동'\n2. 'JK Tim'\n3. 'John'\n4. '장그래'\n5. 'G드래곤'\n\n\n",
            "text/html": [
              "<style>\n",
              ".list-inline {list-style: none; margin:0; padding: 0}\n",
              ".list-inline>li {display: inline-block}\n",
              ".list-inline>li:not(:last-child)::after {content: \"\\00b7\"; padding: 0 .5ex}\n",
              "</style>\n",
              "<ol class=list-inline><li>'홍길동'</li><li>'JK Tim'</li><li>'John'</li><li>'장그래'</li><li>'G드래곤'</li></ol>\n"
            ]
          },
          "metadata": {
            "tags": []
          }
        },
        {
          "output_type": "display_data",
          "data": {
            "text/plain": [
              "[1] \"character\""
            ],
            "text/latex": "'character'",
            "text/markdown": "'character'",
            "text/html": [
              "'character'"
            ]
          },
          "metadata": {
            "tags": []
          }
        },
        {
          "output_type": "display_data",
          "data": {
            "text/plain": [
              "[1]  TRUE FALSE FALSE  TRUE  TRUE FALSE  TRUE"
            ],
            "text/latex": "\\begin{enumerate*}\n\\item TRUE\n\\item FALSE\n\\item FALSE\n\\item TRUE\n\\item TRUE\n\\item FALSE\n\\item TRUE\n\\end{enumerate*}\n",
            "text/markdown": "1. TRUE\n2. FALSE\n3. FALSE\n4. TRUE\n5. TRUE\n6. FALSE\n7. TRUE\n\n\n",
            "text/html": [
              "<style>\n",
              ".list-inline {list-style: none; margin:0; padding: 0}\n",
              ".list-inline>li {display: inline-block}\n",
              ".list-inline>li:not(:last-child)::after {content: \"\\00b7\"; padding: 0 .5ex}\n",
              "</style>\n",
              "<ol class=list-inline><li>TRUE</li><li>FALSE</li><li>FALSE</li><li>TRUE</li><li>TRUE</li><li>FALSE</li><li>TRUE</li></ol>\n"
            ]
          },
          "metadata": {
            "tags": []
          }
        },
        {
          "output_type": "display_data",
          "data": {
            "text/plain": [
              "[1] \"logical\""
            ],
            "text/latex": "'logical'",
            "text/markdown": "'logical'",
            "text/html": [
              "'logical'"
            ]
          },
          "metadata": {
            "tags": []
          }
        },
        {
          "output_type": "display_data",
          "data": {
            "text/plain": [
              "NULL"
            ]
          },
          "metadata": {
            "tags": []
          }
        },
        {
          "output_type": "display_data",
          "data": {
            "text/plain": [
              "[1] \"NULL\""
            ],
            "text/latex": "'NULL'",
            "text/markdown": "'NULL'",
            "text/html": [
              "'NULL'"
            ]
          },
          "metadata": {
            "tags": []
          }
        },
        {
          "output_type": "display_data",
          "data": {
            "text/plain": [
              "[1] NA"
            ],
            "text/latex": "<NA>",
            "text/markdown": "&lt;NA&gt;",
            "text/html": [
              "&lt;NA&gt;"
            ]
          },
          "metadata": {
            "tags": []
          }
        },
        {
          "output_type": "display_data",
          "data": {
            "text/plain": [
              "[1] \"logical\""
            ],
            "text/latex": "'logical'",
            "text/markdown": "'logical'",
            "text/html": [
              "'logical'"
            ]
          },
          "metadata": {
            "tags": []
          }
        },
        {
          "output_type": "display_data",
          "data": {
            "text/plain": [
              "[1] 33 NA 20 21 22 23 12 NA"
            ],
            "text/latex": "\\begin{enumerate*}\n\\item 33\n\\item <NA>\n\\item 20\n\\item 21\n\\item 22\n\\item 23\n\\item 12\n\\item <NA>\n\\end{enumerate*}\n",
            "text/markdown": "1. 33\n2. &lt;NA&gt;\n3. 20\n4. 21\n5. 22\n6. 23\n7. 12\n8. &lt;NA&gt;\n\n\n",
            "text/html": [
              "<style>\n",
              ".list-inline {list-style: none; margin:0; padding: 0}\n",
              ".list-inline>li {display: inline-block}\n",
              ".list-inline>li:not(:last-child)::after {content: \"\\00b7\"; padding: 0 .5ex}\n",
              "</style>\n",
              "<ol class=list-inline><li>33</li><li>&lt;NA&gt;</li><li>20</li><li>21</li><li>22</li><li>23</li><li>12</li><li>&lt;NA&gt;</li></ol>\n"
            ]
          },
          "metadata": {
            "tags": []
          }
        },
        {
          "output_type": "display_data",
          "data": {
            "text/plain": [
              "[1] \"numeric\""
            ],
            "text/latex": "'numeric'",
            "text/markdown": "'numeric'",
            "text/html": [
              "'numeric'"
            ]
          },
          "metadata": {
            "tags": []
          }
        },
        {
          "output_type": "display_data",
          "data": {
            "text/plain": [
              "[1] NA       \"JK Tim\" \"John\"   \"장그래\" NA      "
            ],
            "text/latex": "\\begin{enumerate*}\n\\item NA\n\\item 'JK Tim'\n\\item 'John'\n\\item '장그래'\n\\item NA\n\\end{enumerate*}\n",
            "text/markdown": "1. NA\n2. 'JK Tim'\n3. 'John'\n4. '장그래'\n5. NA\n\n\n",
            "text/html": [
              "<style>\n",
              ".list-inline {list-style: none; margin:0; padding: 0}\n",
              ".list-inline>li {display: inline-block}\n",
              ".list-inline>li:not(:last-child)::after {content: \"\\00b7\"; padding: 0 .5ex}\n",
              "</style>\n",
              "<ol class=list-inline><li>NA</li><li>'JK Tim'</li><li>'John'</li><li>'장그래'</li><li>NA</li></ol>\n"
            ]
          },
          "metadata": {
            "tags": []
          }
        },
        {
          "output_type": "display_data",
          "data": {
            "text/plain": [
              "[1] \"character\""
            ],
            "text/latex": "'character'",
            "text/markdown": "'character'",
            "text/html": [
              "'character'"
            ]
          },
          "metadata": {
            "tags": []
          }
        },
        {
          "output_type": "display_data",
          "data": {
            "text/plain": [
              "[1]  TRUE FALSE    NA    NA  TRUE FALSE    NA"
            ],
            "text/latex": "\\begin{enumerate*}\n\\item TRUE\n\\item FALSE\n\\item <NA>\n\\item <NA>\n\\item TRUE\n\\item FALSE\n\\item <NA>\n\\end{enumerate*}\n",
            "text/markdown": "1. TRUE\n2. FALSE\n3. &lt;NA&gt;\n4. &lt;NA&gt;\n5. TRUE\n6. FALSE\n7. &lt;NA&gt;\n\n\n",
            "text/html": [
              "<style>\n",
              ".list-inline {list-style: none; margin:0; padding: 0}\n",
              ".list-inline>li {display: inline-block}\n",
              ".list-inline>li:not(:last-child)::after {content: \"\\00b7\"; padding: 0 .5ex}\n",
              "</style>\n",
              "<ol class=list-inline><li>TRUE</li><li>FALSE</li><li>&lt;NA&gt;</li><li>&lt;NA&gt;</li><li>TRUE</li><li>FALSE</li><li>&lt;NA&gt;</li></ol>\n"
            ]
          },
          "metadata": {
            "tags": []
          }
        },
        {
          "output_type": "display_data",
          "data": {
            "text/plain": [
              "[1] \"logical\""
            ],
            "text/latex": "'logical'",
            "text/markdown": "'logical'",
            "text/html": [
              "'logical'"
            ]
          },
          "metadata": {
            "tags": []
          }
        }
      ]
    }
  ]
}